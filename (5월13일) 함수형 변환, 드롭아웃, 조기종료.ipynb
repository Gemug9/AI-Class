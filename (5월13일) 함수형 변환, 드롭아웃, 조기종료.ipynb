{
 "cells": [
  {
   "cell_type": "code",
   "execution_count": null,
   "id": "f850921c",
   "metadata": {},
   "outputs": [
    {
     "name": "stdout",
     "output_type": "stream",
     "text": [
      "Epoch 1/20\n",
      "196/196 - 1s - loss: 0.6096 - accuracy: 0.6515 - val_loss: 0.4570 - val_accuracy: 0.8364 - 1s/epoch - 7ms/step\n",
      "Epoch 2/20\n",
      "196/196 - 0s - loss: 0.4530 - accuracy: 0.8004 - val_loss: 0.3530 - val_accuracy: 0.8545 - 499ms/epoch - 3ms/step\n",
      "Epoch 3/20\n",
      "196/196 - 0s - loss: 0.3930 - accuracy: 0.8391 - val_loss: 0.3277 - val_accuracy: 0.8604 - 463ms/epoch - 2ms/step\n",
      "Epoch 4/20\n",
      "196/196 - 0s - loss: 0.3675 - accuracy: 0.8531 - val_loss: 0.3234 - val_accuracy: 0.8606 - 455ms/epoch - 2ms/step\n",
      "Epoch 5/20\n",
      "196/196 - 0s - loss: 0.3576 - accuracy: 0.8580 - val_loss: 0.3242 - val_accuracy: 0.8600 - 470ms/epoch - 2ms/step\n",
      "Epoch 6/20\n",
      "196/196 - 0s - loss: 0.3454 - accuracy: 0.8635 - val_loss: 0.3249 - val_accuracy: 0.8574 - 451ms/epoch - 2ms/step\n",
      "Epoch 7/20\n",
      "196/196 - 0s - loss: 0.3330 - accuracy: 0.8698 - val_loss: 0.3272 - val_accuracy: 0.8570 - 455ms/epoch - 2ms/step\n"
     ]
    }
   ],
   "source": [
    "import numpy as np\n",
    "import tensorflow as tf\n",
    "import matplotlib.pyplot as plt\n",
    "from tensorflow.keras.callbacks import EarlyStopping\n",
    "\n",
    "# 데이터 다운로드\n",
    "(train_data, train_labels), (test_data, test_labels) = tf.keras.datasets.imdb.load_data(num_words=1000)\n",
    "\n",
    "# 원-핫 인코딩으로 변환하는 함수\n",
    "def one_hot_sequences(sequences, dimension=1000):\n",
    "    results = np.zeros((len(sequences), dimension))\n",
    "    for i, word_index in enumerate(sequences):\n",
    "        results[i, word_index] = 1.\n",
    "    return results.astype('float32')  # 데이터 타입을 float32로 변환\n",
    "\n",
    "# 데이터 크기 줄이기\n",
    "train_data = one_hot_sequences(train_data, dimension=1000)\n",
    "test_data = one_hot_sequences(test_data, dimension=1000)\n",
    "\n",
    "# 신경망 모델 구축 (함수형 API)\n",
    "inputs = tf.keras.Input(shape=(1000,))\n",
    "x = tf.keras.layers.Dense(8, activation='relu')(inputs)\n",
    "x = tf.keras.layers.Dropout(0.3)(x)  # 드롭아웃 레이어 추가\n",
    "x = tf.keras.layers.Dense(8, activation='relu')(x)\n",
    "x = tf.keras.layers.Dropout(0.3)(x)  # 드롭아웃 레이어 추가\n",
    "outputs = tf.keras.layers.Dense(1, activation='sigmoid')(x)\n",
    "\n",
    "model = tf.keras.Model(inputs=inputs, outputs=outputs)\n",
    "\n",
    "model.compile(loss='binary_crossentropy', optimizer='adam', metrics=['accuracy'])\n",
    "\n",
    "# 조기 종료 설정\n",
    "early_stopping = EarlyStopping(patience=3, monitor='val_loss', restore_best_weights=True)\n",
    "\n",
    "# 신경망 훈련, 검증 데이터 전달\n",
    "history = model.fit(train_data,\n",
    "                    train_labels,\n",
    "                    epochs=20,  # 에포크 수를 줄임\n",
    "                    batch_size=128,  # 더 작은 배치 크기 사용\n",
    "                    validation_data=(test_data, test_labels),\n",
    "                    verbose=2,\n",
    "                    callbacks=[early_stopping])  # 조기 종료 콜백 추가\n",
    "\n",
    "# 훈련 데이터의 손실값과 검증 데이터의 손실값을 그래프에 출력\n",
    "history_dict = history.history\n",
    "loss_values = history_dict['loss']      # 훈련 데이터 손실값\n",
    "val_loss_values = history_dict['val_loss']  # 검증 데이터 손실값\n",
    "\n",
    "epochs = range(1, len(loss_values) + 1)     # 에포크 수\n",
    "\n",
    "plt.plot(epochs, loss_values, 'bo', label='Training loss')\n",
    "plt.plot(epochs, val_loss_values, 'b', label='Validation loss')\n",
    "plt.title('Training and validation loss')\n",
    "plt.xlabel('Epochs')\n",
    "plt.ylabel('Loss')\n",
    "plt.legend()\n",
    "plt.show()\n"
   ]
  }
 ],
 "metadata": {
  "kernelspec": {
   "display_name": "ai",
   "language": "python",
   "name": "ai"
  },
  "language_info": {
   "codemirror_mode": {
    "name": "ipython",
    "version": 3
   },
   "file_extension": ".py",
   "mimetype": "text/x-python",
   "name": "python",
   "nbconvert_exporter": "python",
   "pygments_lexer": "ipython3",
   "version": "3.10.9"
  }
 },
 "nbformat": 4,
 "nbformat_minor": 5
}
