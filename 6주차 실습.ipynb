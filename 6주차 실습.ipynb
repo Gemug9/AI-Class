{
 "cells": [
  {
   "cell_type": "markdown",
   "id": "7deefffb",
   "metadata": {},
   "source": [
    "#### 6주차 실습"
   ]
  },
  {
   "cell_type": "markdown",
   "id": "2d3d43b9",
   "metadata": {},
   "source": [
    "# ML"
   ]
  },
  {
   "cell_type": "code",
   "execution_count": 1,
   "id": "85f3a383",
   "metadata": {},
   "outputs": [],
   "source": [
    "# from sklearn.datasets import load_데이터 이름\n",
    "from sklearn.datasets import load_digits\n",
    "import pandas as pd\n",
    "import numpy as np\n",
    "import matplotlib.pyplot as plt\n",
    "import seaborn as sns\n",
    "\n",
    "from sklearn import datasets, metrics\n",
    "\n",
    "from sklearn.model_selection import train_test_split\n",
    "from sklearn.preprocessing import StandardScaler, LabelEncoder\n",
    "from sklearn.metrics import accuracy_score\n",
    "from sklearn.metrics import confusion_matrix\n",
    "import warnings\n",
    "\n",
    "from sklearn.linear_model import LogisticRegression\n",
    "from sklearn.svm import SVC\n",
    "from sklearn.neural_network import MLPClassifier\n",
    "from sklearn.tree import DecisionTreeClassifier\n",
    "from sklearn.ensemble import RandomForestClassifier\n",
    "\n",
    "from keras.models import Sequential\n",
    "from keras.layers import Dense\n",
    "from keras.optimizers import SGD,Adam\n",
    "\n",
    "import tensorflow as tf\n",
    "from tensorflow import keras\n",
    "from tensorflow.keras import layers, models\n",
    "\n",
    "from sklearn.metrics import classification_report,confusion_matrix"
   ]
  },
  {
   "cell_type": "markdown",
   "id": "203131ae",
   "metadata": {},
   "source": [
    "필기체 숫자 이미지를 분류해보자."
   ]
  },
  {
   "cell_type": "code",
   "execution_count": 2,
   "id": "9aa1d0e9",
   "metadata": {
    "scrolled": true
   },
   "outputs": [
    {
     "data": {
      "text/plain": [
       "<matplotlib.image.AxesImage at 0x2ac623dda50>"
      ]
     },
     "execution_count": 2,
     "metadata": {},
     "output_type": "execute_result"
    },
    {
     "data": {
      "image/png": "[encoded data removed]",
      "text/plain": [
       "<Figure size 640x480 with 1 Axes>"
      ]
     },
     "metadata": {},
     "output_type": "display_data"
    }
   ],
   "source": [
    "# 데이터 세트 읽어들이기\n",
    "digits = datasets.load_digits()\n",
    "plt.imshow(digits.images[0], cmap=plt.cm.gray_r, interpolation='nearest')"
   ]
  },
  {
   "cell_type": "code",
   "execution_count": 3,
   "id": "32810cb5",
   "metadata": {},
   "outputs": [],
   "source": [
    "# 평탄화, 2차원 배열로 저장되어 있는 이미지들을 1차원 배열로 바꾸기\n",
    "# (8,8) 형상의 배열을 (64,) 형상의 배열로 변경\n",
    "n_samples = len(digits.images)\n",
    "\n",
    "data = digits.images.reshape((n_samples, -1))"
   ]
  },
  {
   "cell_type": "code",
   "execution_count": 4,
   "id": "6bafdad8",
   "metadata": {},
   "outputs": [],
   "source": [
    "X_train, X_test, y_train, y_test = train_test_split(data, digits.target, test_size=0.2)"
   ]
  },
  {
   "cell_type": "code",
   "execution_count": 5,
   "id": "cee5fa26",
   "metadata": {},
   "outputs": [
    {
     "name": "stdout",
     "output_type": "stream",
     "text": [
      "\n",
      "--- Logistic Regression Classifier ---\n",
      "0.9722222222222222\n",
      "[[47  0  0  0  0  0  0  0  0  0]\n",
      " [ 0 35  0  0  0  0  0  0  0  0]\n",
      " [ 0  1 28  1  0  0  0  0  0  0]\n",
      " [ 0  0  0 35  0  0  0  0  1  1]\n",
      " [ 0  0  0  0 34  0  0  0  0  0]\n",
      " [ 0  0  0  0  0 40  0  0  0  0]\n",
      " [ 0  0  0  0  0  0 39  0  0  0]\n",
      " [ 0  0  0  0  0  0  0 30  0  1]\n",
      " [ 0  1  0  0  0  0  0  0 25  0]\n",
      " [ 0  1  0  0  0  0  0  0  3 37]]\n"
     ]
    },
    {
     "name": "stderr",
     "output_type": "stream",
     "text": [
      "C:\\Users\\yoojm\\anaconda3\\envs\\ai\\lib\\site-packages\\sklearn\\linear_model\\_logistic.py:460: ConvergenceWarning: lbfgs failed to converge (status=1):\n",
      "STOP: TOTAL NO. of ITERATIONS REACHED LIMIT.\n",
      "\n",
      "Increase the number of iterations (max_iter) or scale the data as shown in:\n",
      "    https://scikit-learn.org/stable/modules/preprocessing.html\n",
      "Please also refer to the documentation for alternative solver options:\n",
      "    https://scikit-learn.org/stable/modules/linear_model.html#logistic-regression\n",
      "  n_iter_i = _check_optimize_result(\n"
     ]
    }
   ],
   "source": [
    "# Build a Logistic Regression classifier and predict\n",
    "\n",
    "clf_lr = LogisticRegression(random_state=0)\n",
    "clf_lr.fit(X_train, y_train)\n",
    "\n",
    "pred_lr = clf_lr.predict(X_test)\n",
    "\n",
    "print (\"\\n--- Logistic Regression Classifier ---\")\n",
    "print (accuracy_score(y_test, pred_lr))\n",
    "print (confusion_matrix(y_test, pred_lr))"
   ]
  },
  {
   "cell_type": "code",
   "execution_count": 6,
   "id": "d9e3109e",
   "metadata": {},
   "outputs": [
    {
     "name": "stdout",
     "output_type": "stream",
     "text": [
      "\n",
      "--- Neural Network Classifier ---\n",
      "0.9805555555555555\n",
      "[[47  0  0  0  0  0  0  0  0  0]\n",
      " [ 0 35  0  0  0  0  0  0  0  0]\n",
      " [ 0  1 29  0  0  0  0  0  0  0]\n",
      " [ 0  0  0 35  0  0  0  0  1  1]\n",
      " [ 0  0  0  0 34  0  0  0  0  0]\n",
      " [ 0  0  0  0  0 40  0  0  0  0]\n",
      " [ 0  0  0  0  0  0 39  0  0  0]\n",
      " [ 0  0  0  0  0  0  0 30  0  1]\n",
      " [ 0  1  0  0  0  0  0  0 25  0]\n",
      " [ 0  0  0  0  0  1  0  0  1 39]]\n"
     ]
    }
   ],
   "source": [
    "# Build a Neural Network classifier and predict\n",
    "\n",
    "clf_nn = MLPClassifier(random_state=0)\n",
    "clf_nn.fit(X_train, y_train)\n",
    "\n",
    "pred_nn = clf_nn.predict(X_test)\n",
    "\n",
    "print (\"\\n--- Neural Network Classifier ---\")\n",
    "print (accuracy_score(y_test, pred_nn))\n",
    "print (confusion_matrix(y_test, pred_nn))"
   ]
  },
  {
   "cell_type": "code",
   "execution_count": 7,
   "id": "052489ce",
   "metadata": {},
   "outputs": [
    {
     "name": "stdout",
     "output_type": "stream",
     "text": [
      "\n",
      "--- Decision Tree Classifier ---\n",
      "0.8805555555555555\n",
      "[[47  0  0  0  0  0  0  0  0  0]\n",
      " [ 0 31  0  0  1  0  0  1  0  2]\n",
      " [ 0  2 24  1  0  0  0  0  1  2]\n",
      " [ 0  1  1 28  0  1  0  0  2  4]\n",
      " [ 0  1  0  0 33  0  0  0  0  0]\n",
      " [ 0  0  0  1  0 34  0  1  2  2]\n",
      " [ 0  0  0  0  1  1 37  0  0  0]\n",
      " [ 0  0  1  0  0  0  0 28  0  2]\n",
      " [ 0  2  3  1  0  0  0  0 20  0]\n",
      " [ 0  1  2  1  0  1  0  1  0 35]]\n"
     ]
    }
   ],
   "source": [
    "# Build a Decision Tree classifier and predict\n",
    "\n",
    "clf_dt = DecisionTreeClassifier(random_state=0)\n",
    "clf_dt.fit(X_train, y_train)\n",
    "\n",
    "pred_dt = clf_dt.predict(X_test)\n",
    "\n",
    "print (\"\\n--- Decision Tree Classifier ---\")\n",
    "print (accuracy_score(y_test, pred_dt))\n",
    "print (confusion_matrix(y_test, pred_dt))"
   ]
  },
  {
   "cell_type": "code",
   "execution_count": 9,
   "id": "df24804c",
   "metadata": {
    "scrolled": true
   },
   "outputs": [
    {
     "name": "stdout",
     "output_type": "stream",
     "text": [
      "\n",
      "--- Random Forest ---\n",
      "0.9638888888888889\n",
      "[[47  0  0  0  0  0  0  0  0  0]\n",
      " [ 0 35  0  0  0  0  0  0  0  0]\n",
      " [ 0  1 29  0  0  0  0  0  0  0]\n",
      " [ 0  0  0 36  0  0  0  1  0  0]\n",
      " [ 0  0  0  0 33  0  0  1  0  0]\n",
      " [ 0  0  0  0  1 39  0  0  0  0]\n",
      " [ 1  0  0  0  0  0 38  0  0  0]\n",
      " [ 0  0  0  0  0  0  0 30  0  1]\n",
      " [ 0  2  1  0  0  0  0  1 22  0]\n",
      " [ 0  0  0  1  0  1  0  0  1 38]]\n"
     ]
    }
   ],
   "source": [
    "warnings.filterwarnings('ignore')\n",
    "# Build a decision tree classifier and predict\n",
    "\n",
    "clf_rf = RandomForestClassifier(random_state=0)\n",
    "clf_rf.fit(X_train, y_train)\n",
    "\n",
    "pred_rf = clf_rf.predict(X_test)\n",
    "\n",
    "print (\"\\n--- Random Forest ---\")\n",
    "print (accuracy_score(y_test, pred_rf))\n",
    "print (confusion_matrix(y_test, pred_rf))"
   ]
  },
  {
   "cell_type": "markdown",
   "id": "64b5fdbb",
   "metadata": {},
   "source": [
    "# DL"
   ]
  },
  {
   "cell_type": "code",
   "execution_count": 10,
   "id": "98e18e21",
   "metadata": {},
   "outputs": [],
   "source": [
    "# from sklearn.datasets import load_데이터 이름\n",
    "from sklearn.datasets import load_digits\n",
    "import pandas as pd\n",
    "import numpy as np\n",
    "import matplotlib.pyplot as plt\n",
    "import seaborn as sns\n",
    "\n",
    "from sklearn import datasets, metrics\n",
    "\n",
    "from sklearn.model_selection import train_test_split\n",
    "from sklearn.preprocessing import StandardScaler, LabelEncoder\n",
    "from sklearn.metrics import accuracy_score\n",
    "from sklearn.metrics import confusion_matrix\n",
    "import warnings\n",
    "\n",
    "from sklearn.linear_model import LogisticRegression\n",
    "from sklearn.svm import SVC\n",
    "from sklearn.neural_network import MLPClassifier\n",
    "from sklearn.tree import DecisionTreeClassifier\n",
    "from sklearn.ensemble import RandomForestClassifier\n",
    "\n",
    "from keras.models import Sequential\n",
    "from keras.layers import Dense, Flatten\n",
    "from keras.optimizers import SGD,Adam\n",
    "\n",
    "import tensorflow as tf\n",
    "from tensorflow import keras\n",
    "from tensorflow.keras import layers, models\n",
    "\n",
    "from sklearn.metrics import classification_report,confusion_matrix"
   ]
  },
  {
   "cell_type": "code",
   "execution_count": 11,
   "id": "f501a42c",
   "metadata": {},
   "outputs": [
    {
     "data": {
      "text/plain": [
       "<matplotlib.image.AxesImage at 0x2ac65ad3a00>"
      ]
     },
     "execution_count": 11,
     "metadata": {},
     "output_type": "execute_result"
    },
    {
     "data": {
      "image/png": "[encoded data removed]",
      "text/plain": [
       "<Figure size 640x480 with 1 Axes>"
      ]
     },
     "metadata": {},
     "output_type": "display_data"
    }
   ],
   "source": [
    "# 데이터 세트 읽어들이기\n",
    "digits = datasets.load_digits()\n",
    "plt.imshow(digits.images[0], cmap=plt.cm.gray_r, interpolation='nearest')"
   ]
  },
  {
   "cell_type": "code",
   "execution_count": 12,
   "id": "55784830",
   "metadata": {},
   "outputs": [
    {
     "data": {
      "text/plain": [
       "{'data': array([[ 0.,  0.,  5., ...,  0.,  0.,  0.],\n",
       "        [ 0.,  0.,  0., ..., 10.,  0.,  0.],\n",
       "        [ 0.,  0.,  0., ..., 16.,  9.,  0.],\n",
       "        ...,\n",
       "        [ 0.,  0.,  1., ...,  6.,  0.,  0.],\n",
       "        [ 0.,  0.,  2., ..., 12.,  0.,  0.],\n",
       "        [ 0.,  0., 10., ..., 12.,  1.,  0.]]),\n",
       " 'target': array([0, 1, 2, ..., 8, 9, 8]),\n",
       " 'frame': None,\n",
       " 'feature_names': ['pixel_0_0',\n",
       "  'pixel_0_1',\n",
       "  'pixel_0_2',\n",
       "  'pixel_0_3',\n",
       "  'pixel_0_4',\n",
       "  'pixel_0_5',\n",
       "  'pixel_0_6',\n",
       "  'pixel_0_7',\n",
       "  'pixel_1_0',\n",
       "  'pixel_1_1',\n",
       "  'pixel_1_2',\n",
       "  'pixel_1_3',\n",
       "  'pixel_1_4',\n",
       "  'pixel_1_5',\n",
       "  'pixel_1_6',\n",
       "  'pixel_1_7',\n",
       "  'pixel_2_0',\n",
       "  'pixel_2_1',\n",
       "  'pixel_2_2',\n",
       "  'pixel_2_3',\n",
       "  'pixel_2_4',\n",
       "  'pixel_2_5',\n",
       "  'pixel_2_6',\n",
       "  'pixel_2_7',\n",
       "  'pixel_3_0',\n",
       "  'pixel_3_1',\n",
       "  'pixel_3_2',\n",
       "  'pixel_3_3',\n",
       "  'pixel_3_4',\n",
       "  'pixel_3_5',\n",
       "  'pixel_3_6',\n",
       "  'pixel_3_7',\n",
       "  'pixel_4_0',\n",
       "  'pixel_4_1',\n",
       "  'pixel_4_2',\n",
       "  'pixel_4_3',\n",
       "  'pixel_4_4',\n",
       "  'pixel_4_5',\n",
       "  'pixel_4_6',\n",
       "  'pixel_4_7',\n",
       "  'pixel_5_0',\n",
       "  'pixel_5_1',\n",
       "  'pixel_5_2',\n",
       "  'pixel_5_3',\n",
       "  'pixel_5_4',\n",
       "  'pixel_5_5',\n",
       "  'pixel_5_6',\n",
       "  'pixel_5_7',\n",
       "  'pixel_6_0',\n",
       "  'pixel_6_1',\n",
       "  'pixel_6_2',\n",
       "  'pixel_6_3',\n",
       "  'pixel_6_4',\n",
       "  'pixel_6_5',\n",
       "  'pixel_6_6',\n",
       "  'pixel_6_7',\n",
       "  'pixel_7_0',\n",
       "  'pixel_7_1',\n",
       "  'pixel_7_2',\n",
       "  'pixel_7_3',\n",
       "  'pixel_7_4',\n",
       "  'pixel_7_5',\n",
       "  'pixel_7_6',\n",
       "  'pixel_7_7'],\n",
       " 'target_names': array([0, 1, 2, 3, 4, 5, 6, 7, 8, 9]),\n",
       " 'images': array([[[ 0.,  0.,  5., ...,  1.,  0.,  0.],\n",
       "         [ 0.,  0., 13., ..., 15.,  5.,  0.],\n",
       "         [ 0.,  3., 15., ..., 11.,  8.,  0.],\n",
       "         ...,\n",
       "         [ 0.,  4., 11., ..., 12.,  7.,  0.],\n",
       "         [ 0.,  2., 14., ..., 12.,  0.,  0.],\n",
       "         [ 0.,  0.,  6., ...,  0.,  0.,  0.]],\n",
       " \n",
       "        [[ 0.,  0.,  0., ...,  5.,  0.,  0.],\n",
       "         [ 0.,  0.,  0., ...,  9.,  0.,  0.],\n",
       "         [ 0.,  0.,  3., ...,  6.,  0.,  0.],\n",
       "         ...,\n",
       "         [ 0.,  0.,  1., ...,  6.,  0.,  0.],\n",
       "         [ 0.,  0.,  1., ...,  6.,  0.,  0.],\n",
       "         [ 0.,  0.,  0., ..., 10.,  0.,  0.]],\n",
       " \n",
       "        [[ 0.,  0.,  0., ..., 12.,  0.,  0.],\n",
       "         [ 0.,  0.,  3., ..., 14.,  0.,  0.],\n",
       "         [ 0.,  0.,  8., ..., 16.,  0.,  0.],\n",
       "         ...,\n",
       "         [ 0.,  9., 16., ...,  0.,  0.,  0.],\n",
       "         [ 0.,  3., 13., ..., 11.,  5.,  0.],\n",
       "         [ 0.,  0.,  0., ..., 16.,  9.,  0.]],\n",
       " \n",
       "        ...,\n",
       " \n",
       "        [[ 0.,  0.,  1., ...,  1.,  0.,  0.],\n",
       "         [ 0.,  0., 13., ...,  2.,  1.,  0.],\n",
       "         [ 0.,  0., 16., ..., 16.,  5.,  0.],\n",
       "         ...,\n",
       "         [ 0.,  0., 16., ..., 15.,  0.,  0.],\n",
       "         [ 0.,  0., 15., ..., 16.,  0.,  0.],\n",
       "         [ 0.,  0.,  2., ...,  6.,  0.,  0.]],\n",
       " \n",
       "        [[ 0.,  0.,  2., ...,  0.,  0.,  0.],\n",
       "         [ 0.,  0., 14., ..., 15.,  1.,  0.],\n",
       "         [ 0.,  4., 16., ..., 16.,  7.,  0.],\n",
       "         ...,\n",
       "         [ 0.,  0.,  0., ..., 16.,  2.,  0.],\n",
       "         [ 0.,  0.,  4., ..., 16.,  2.,  0.],\n",
       "         [ 0.,  0.,  5., ..., 12.,  0.,  0.]],\n",
       " \n",
       "        [[ 0.,  0., 10., ...,  1.,  0.,  0.],\n",
       "         [ 0.,  2., 16., ...,  1.,  0.,  0.],\n",
       "         [ 0.,  0., 15., ..., 15.,  0.,  0.],\n",
       "         ...,\n",
       "         [ 0.,  4., 16., ..., 16.,  6.,  0.],\n",
       "         [ 0.,  8., 16., ..., 16.,  8.,  0.],\n",
       "         [ 0.,  1.,  8., ..., 12.,  1.,  0.]]]),\n",
       " 'DESCR': \".. _digits_dataset:\\n\\nOptical recognition of handwritten digits dataset\\n--------------------------------------------------\\n\\n**Data Set Characteristics:**\\n\\n    :Number of Instances: 1797\\n    :Number of Attributes: 64\\n    :Attribute Information: 8x8 image of integer pixels in the range 0..16.\\n    :Missing Attribute Values: None\\n    :Creator: E. Alpaydin (alpaydin '@' boun.edu.tr)\\n    :Date: July; 1998\\n\\nThis is a copy of the test set of the UCI ML hand-written digits datasets\\nhttps://archive.ics.uci.edu/ml/datasets/Optical+Recognition+of+Handwritten+Digits\\n\\nThe data set contains images of hand-written digits: 10 classes where\\neach class refers to a digit.\\n\\nPreprocessing programs made available by NIST were used to extract\\nnormalized bitmaps of handwritten digits from a preprinted form. From a\\ntotal of 43 people, 30 contributed to the training set and different 13\\nto the test set. 32x32 bitmaps are divided into nonoverlapping blocks of\\n4x4 and the number of on pixels are counted in each block. This generates\\nan input matrix of 8x8 where each element is an integer in the range\\n0..16. This reduces dimensionality and gives invariance to small\\ndistortions.\\n\\nFor info on NIST preprocessing routines, see M. D. Garris, J. L. Blue, G.\\nT. Candela, D. L. Dimmick, J. Geist, P. J. Grother, S. A. Janet, and C.\\nL. Wilson, NIST Form-Based Handprint Recognition System, NISTIR 5469,\\n1994.\\n\\n.. topic:: References\\n\\n  - C. Kaynak (1995) Methods of Combining Multiple Classifiers and Their\\n    Applications to Handwritten Digit Recognition, MSc Thesis, Institute of\\n    Graduate Studies in Science and Engineering, Bogazici University.\\n  - E. Alpaydin, C. Kaynak (1998) Cascading Classifiers, Kybernetika.\\n  - Ken Tang and Ponnuthurai N. Suganthan and Xi Yao and A. Kai Qin.\\n    Linear dimensionalityreduction using relevance weighted LDA. School of\\n    Electrical and Electronic Engineering Nanyang Technological University.\\n    2005.\\n  - Claudio Gentile. A New Approximate Maximal Margin Classification\\n    Algorithm. NIPS. 2000.\\n\"}"
      ]
     },
     "execution_count": 12,
     "metadata": {},
     "output_type": "execute_result"
    }
   ],
   "source": [
    "digits"
   ]
  },
  {
   "cell_type": "code",
   "execution_count": 13,
   "id": "668ad300",
   "metadata": {},
   "outputs": [],
   "source": [
    "# 평탄화, 2차원 배열로 저장되어 있는 이미지들을 1차원 배열로 바꾸기\n",
    "# (8,8) 형상의 배열을 (64,) 형상의 배열로 변경\n",
    "n_samples = len(digits.images)\n",
    "data = digits.images.reshape((n_samples, -1))"
   ]
  },
  {
   "cell_type": "code",
   "execution_count": 14,
   "id": "ba99b2a6",
   "metadata": {},
   "outputs": [
    {
     "data": {
      "text/plain": [
       "(1797, 64)"
      ]
     },
     "execution_count": 14,
     "metadata": {},
     "output_type": "execute_result"
    }
   ],
   "source": [
    "data.shape"
   ]
  },
  {
   "cell_type": "markdown",
   "id": "81249dcf",
   "metadata": {},
   "source": [
    "## 원핫 인코딩"
   ]
  },
  {
   "cell_type": "code",
   "execution_count": 44,
   "id": "115f77c2",
   "metadata": {},
   "outputs": [
    {
     "name": "stdout",
     "output_type": "stream",
     "text": [
      "원핫 인코딩된 데이터 shape: (1797, 10)\n"
     ]
    }
   ],
   "source": [
    "from sklearn.preprocessing import LabelBinarizer\n",
    "\n",
    "# LabelBinarizer를 사용하여 클래스 레이블을 원핫 인코딩\n",
    "lb = LabelBinarizer()\n",
    "target_one_hot = lb.fit_transform(digits.target)\n",
    "\n",
    "# target_one_hot의 shape 확인\n",
    "print(\"원핫 인코딩된 데이터 shape:\", target_one_hot.shape)\n"
   ]
  },
  {
   "cell_type": "code",
   "execution_count": 45,
   "id": "7983f3d8",
   "metadata": {},
   "outputs": [],
   "source": [
    "X_train, X_test, y_train, y_test = train_test_split(data, target_one_hot, test_size=0.2,)"
   ]
  },
  {
   "cell_type": "code",
   "execution_count": 46,
   "id": "06ff9198",
   "metadata": {},
   "outputs": [
    {
     "data": {
      "text/plain": [
       "((1437, 64), (1437, 10), (360, 64), (1437, 10))"
      ]
     },
     "execution_count": 46,
     "metadata": {},
     "output_type": "execute_result"
    }
   ],
   "source": [
    "X_train.shape, y_train.shape, X_test.shape, y_train.shape"
   ]
  },
  {
   "cell_type": "code",
   "execution_count": 47,
   "id": "63a7264b",
   "metadata": {},
   "outputs": [
    {
     "data": {
      "text/plain": [
       "64"
      ]
     },
     "execution_count": 47,
     "metadata": {},
     "output_type": "execute_result"
    }
   ],
   "source": [
    "X_train.shape[1]"
   ]
  },
  {
   "cell_type": "code",
   "execution_count": 53,
   "id": "0ce08503",
   "metadata": {},
   "outputs": [
    {
     "name": "stdout",
     "output_type": "stream",
     "text": [
      "Model: \"sequential_9\"\n",
      "_________________________________________________________________\n",
      " Layer (type)                Output Shape              Param #   \n",
      "=================================================================\n",
      " dense_36 (Dense)            (None, 64)                4160      \n",
      "                                                                 \n",
      " dense_37 (Dense)            (None, 32)                2080      \n",
      "                                                                 \n",
      " dense_38 (Dense)            (None, 10)                330       \n",
      "                                                                 \n",
      "=================================================================\n",
      "Total params: 6,570\n",
      "Trainable params: 6,570\n",
      "Non-trainable params: 0\n",
      "_________________________________________________________________\n",
      "Epoch 1/30\n",
      "41/41 [==============================] - 1s 8ms/step - loss: 3.0084 - accuracy: 0.2730 - val_loss: 1.5202 - val_accuracy: 0.5417\n",
      "Epoch 2/30\n",
      "41/41 [==============================] - 0s 2ms/step - loss: 0.9108 - accuracy: 0.7216 - val_loss: 0.7093 - val_accuracy: 0.7639\n",
      "Epoch 3/30\n",
      "41/41 [==============================] - 0s 2ms/step - loss: 0.4676 - accuracy: 0.8732 - val_loss: 0.4209 - val_accuracy: 0.8681\n",
      "Epoch 4/30\n",
      "41/41 [==============================] - 0s 2ms/step - loss: 0.2966 - accuracy: 0.9172 - val_loss: 0.2856 - val_accuracy: 0.9167\n",
      "Epoch 5/30\n",
      "41/41 [==============================] - 0s 2ms/step - loss: 0.2117 - accuracy: 0.9474 - val_loss: 0.2206 - val_accuracy: 0.9306\n",
      "Epoch 6/30\n",
      "41/41 [==============================] - 0s 2ms/step - loss: 0.1677 - accuracy: 0.9575 - val_loss: 0.1863 - val_accuracy: 0.9375\n",
      "Epoch 7/30\n",
      "41/41 [==============================] - 0s 3ms/step - loss: 0.1299 - accuracy: 0.9722 - val_loss: 0.1903 - val_accuracy: 0.9236\n",
      "Epoch 8/30\n",
      "41/41 [==============================] - 0s 2ms/step - loss: 0.1093 - accuracy: 0.9760 - val_loss: 0.1561 - val_accuracy: 0.9444\n",
      "Epoch 9/30\n",
      "41/41 [==============================] - 0s 3ms/step - loss: 0.0990 - accuracy: 0.9760 - val_loss: 0.1375 - val_accuracy: 0.9514\n",
      "Epoch 10/30\n",
      "41/41 [==============================] - 0s 2ms/step - loss: 0.0869 - accuracy: 0.9822 - val_loss: 0.1298 - val_accuracy: 0.9444\n",
      "Epoch 11/30\n",
      "41/41 [==============================] - 0s 3ms/step - loss: 0.0707 - accuracy: 0.9861 - val_loss: 0.1129 - val_accuracy: 0.9653\n",
      "Epoch 12/30\n",
      "41/41 [==============================] - 0s 3ms/step - loss: 0.0604 - accuracy: 0.9892 - val_loss: 0.0981 - val_accuracy: 0.9583\n",
      "Epoch 13/30\n",
      "41/41 [==============================] - 0s 3ms/step - loss: 0.0508 - accuracy: 0.9907 - val_loss: 0.0999 - val_accuracy: 0.9583\n",
      "Epoch 14/30\n",
      "41/41 [==============================] - 0s 3ms/step - loss: 0.0442 - accuracy: 0.9907 - val_loss: 0.0920 - val_accuracy: 0.9583\n",
      "Epoch 15/30\n",
      "41/41 [==============================] - 0s 2ms/step - loss: 0.0407 - accuracy: 0.9930 - val_loss: 0.0786 - val_accuracy: 0.9792\n",
      "Epoch 16/30\n",
      "41/41 [==============================] - 0s 2ms/step - loss: 0.0352 - accuracy: 0.9946 - val_loss: 0.0582 - val_accuracy: 0.9792\n",
      "Epoch 17/30\n",
      "41/41 [==============================] - 0s 2ms/step - loss: 0.0311 - accuracy: 0.9930 - val_loss: 0.0672 - val_accuracy: 0.9792\n",
      "Epoch 18/30\n",
      "41/41 [==============================] - 0s 3ms/step - loss: 0.0252 - accuracy: 0.9954 - val_loss: 0.0664 - val_accuracy: 0.9792\n",
      "Epoch 19/30\n",
      "41/41 [==============================] - 0s 2ms/step - loss: 0.0229 - accuracy: 0.9961 - val_loss: 0.0584 - val_accuracy: 0.9792\n",
      "Epoch 20/30\n",
      "41/41 [==============================] - 0s 2ms/step - loss: 0.0212 - accuracy: 0.9977 - val_loss: 0.0597 - val_accuracy: 0.9792\n",
      "Epoch 21/30\n",
      "41/41 [==============================] - 0s 2ms/step - loss: 0.0177 - accuracy: 0.9985 - val_loss: 0.0483 - val_accuracy: 0.9861\n",
      "Epoch 22/30\n",
      "41/41 [==============================] - 0s 3ms/step - loss: 0.0149 - accuracy: 0.9992 - val_loss: 0.0450 - val_accuracy: 0.9931\n",
      "Epoch 23/30\n",
      "41/41 [==============================] - 0s 3ms/step - loss: 0.0142 - accuracy: 0.9992 - val_loss: 0.0424 - val_accuracy: 1.0000\n",
      "Epoch 24/30\n",
      "41/41 [==============================] - 0s 2ms/step - loss: 0.0136 - accuracy: 0.9992 - val_loss: 0.0343 - val_accuracy: 0.9931\n",
      "Epoch 25/30\n",
      "41/41 [==============================] - 0s 2ms/step - loss: 0.0110 - accuracy: 1.0000 - val_loss: 0.0371 - val_accuracy: 0.9931\n",
      "Epoch 26/30\n",
      "41/41 [==============================] - 0s 2ms/step - loss: 0.0092 - accuracy: 1.0000 - val_loss: 0.0483 - val_accuracy: 0.9861\n",
      "Epoch 27/30\n",
      "41/41 [==============================] - 0s 3ms/step - loss: 0.0101 - accuracy: 0.9992 - val_loss: 0.0426 - val_accuracy: 0.9931\n",
      "Epoch 28/30\n",
      "41/41 [==============================] - 0s 3ms/step - loss: 0.0080 - accuracy: 1.0000 - val_loss: 0.0388 - val_accuracy: 0.9861\n",
      "Epoch 29/30\n",
      "41/41 [==============================] - 0s 2ms/step - loss: 0.0068 - accuracy: 1.0000 - val_loss: 0.0416 - val_accuracy: 0.9792\n",
      "Epoch 30/30\n",
      "41/41 [==============================] - 0s 2ms/step - loss: 0.0064 - accuracy: 1.0000 - val_loss: 0.0393 - val_accuracy: 0.9861\n",
      "12/12 [==============================] - 0s 2ms/step - loss: 0.1412 - accuracy: 0.9667\n",
      "테스트 데이터 손실: 0.14122027158737183\n",
      "테스트 데이터 정확도: 0.9666666388511658\n",
      "12/12 [==============================] - 0s 1ms/step\n"
     ]
    }
   ],
   "source": [
    "#Defining the model \n",
    "\n",
    "from keras.models import Sequential\n",
    "from keras.layers import Dense\n",
    "from keras.optimizers import SGD,Adam\n",
    "\n",
    "model = Sequential()\n",
    "\n",
    "model.add(Dense(64,input_shape=(X_train.shape[1],),activation='relu'))\n",
    "model.add(Dense(32,activation='relu'))\n",
    "model.add(Dense(10,activation='softmax'))\n",
    "\n",
    "model.compile(Adam(lr=0.001),'categorical_crossentropy',metrics=['accuracy'])\n",
    "\n",
    "model.summary()\n",
    "\n",
    "# 모델 학습\n",
    "model_history = model.fit(x=X_train, y=y_train, epochs=30, batch_size=32, validation_split=0.1)\n",
    "\n",
    "# 모델 예측\n",
    "y_pred = model.predict(X_test)\n",
    "\n",
    "# 클래스 예측\n",
    "y_test_class = np.argmax(y_test, axis=-1)\n",
    "y_pred_class = np.argmax(y_pred, axis=-1)"
   ]
  },
  {
   "cell_type": "code",
   "execution_count": 55,
   "id": "11510856",
   "metadata": {},
   "outputs": [
    {
     "data": {
      "image/png": "[encoded data removed]",
      "text/plain": [
       "<Figure size 640x480 with 1 Axes>"
      ]
     },
     "metadata": {},
     "output_type": "display_data"
    }
   ],
   "source": [
    "loss =model_history.history['loss']\n",
    "val_loss =model_history.history['val_loss']\n",
    "epochs = range(1, len(loss) + 1)\n",
    "plt.plot(epochs, loss, 'y', label='Training loss')\n",
    "plt.plot(epochs, val_loss, 'r', label='Validation loss')\n",
    "plt.title('Training and validation loss')\n",
    "plt.xlabel('Epochs')\n",
    "plt.ylabel('Loss')\n",
    "plt.legend()\n",
    "plt.show()"
   ]
  },
  {
   "cell_type": "code",
   "execution_count": 56,
   "id": "80695b0c",
   "metadata": {
    "scrolled": true
   },
   "outputs": [
    {
     "data": {
      "image/png": "[encoded data removed]",
      "text/plain": [
       "<Figure size 640x480 with 1 Axes>"
      ]
     },
     "metadata": {},
     "output_type": "display_data"
    }
   ],
   "source": [
    "acc =model_history.history['accuracy']\n",
    "val_acc =model_history.history['val_accuracy']\n",
    "plt.plot(epochs, acc, 'y', label='Training acc')\n",
    "plt.plot(epochs, val_acc, 'r', label='Validation acc')\n",
    "plt.title('Training and validation accuracy')\n",
    "plt.xlabel('Epochs')\n",
    "plt.ylabel('Accuracy')\n",
    "plt.legend()\n",
    "plt.show()"
   ]
  },
  {
   "cell_type": "code",
   "execution_count": 57,
   "id": "c03739bf",
   "metadata": {},
   "outputs": [
    {
     "name": "stdout",
     "output_type": "stream",
     "text": [
      "              precision    recall  f1-score   support\n",
      "\n",
      "           0       1.00      1.00      1.00        39\n",
      "           1       0.90      1.00      0.95        37\n",
      "           2       1.00      0.96      0.98        27\n",
      "           3       0.97      0.97      0.97        35\n",
      "           4       1.00      0.90      0.95        40\n",
      "           5       0.98      0.95      0.97        44\n",
      "           6       1.00      1.00      1.00        37\n",
      "           7       0.95      1.00      0.97        38\n",
      "           8       1.00      0.85      0.92        27\n",
      "           9       0.90      1.00      0.95        36\n",
      "\n",
      "    accuracy                           0.97       360\n",
      "   macro avg       0.97      0.96      0.97       360\n",
      "weighted avg       0.97      0.97      0.97       360\n",
      "\n",
      "[[39  0  0  0  0  0  0  0  0  0]\n",
      " [ 0 37  0  0  0  0  0  0  0  0]\n",
      " [ 0  1 26  0  0  0  0  0  0  0]\n",
      " [ 0  0  0 34  0  1  0  0  0  0]\n",
      " [ 0  2  0  0 36  0  0  2  0  0]\n",
      " [ 0  0  0  0  0 42  0  0  0  2]\n",
      " [ 0  0  0  0  0  0 37  0  0  0]\n",
      " [ 0  0  0  0  0  0  0 38  0  0]\n",
      " [ 0  1  0  1  0  0  0  0 23  2]\n",
      " [ 0  0  0  0  0  0  0  0  0 36]]\n"
     ]
    }
   ],
   "source": [
    "#Accuracy of the predicted values\n",
    "from sklearn.metrics import classification_report,confusion_matrix\n",
    "print(classification_report(y_test_class,y_pred_class))\n",
    "print(confusion_matrix(y_test_class,y_pred_class))"
   ]
  }
 ],
 "metadata": {
  "kernelspec": {
   "display_name": "ai",
   "language": "python",
   "name": "ai"
  },
  "language_info": {
   "codemirror_mode": {
    "name": "ipython",
    "version": 3
   },
   "file_extension": ".py",
   "mimetype": "text/x-python",
   "name": "python",
   "nbconvert_exporter": "python",
   "pygments_lexer": "ipython3",
   "version": "3.10.9"
  }
 },
 "nbformat": 4,
 "nbformat_minor": 5
}
